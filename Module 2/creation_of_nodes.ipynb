{
 "cells": [
  {
   "cell_type": "markdown",
   "metadata": {},
   "source": [
    "Creation of Nodes\n",
    "• The nodes are created by implementing a class which will hold the pointers along with the data element.\n",
    "• In the below example we create a class named daynames to hold the name of the weekdays.\n",
    "• The nextval pointer is initialized to null and three nodes are initialized with values as shown."
   ]
  },
  {
   "cell_type": "code",
   "execution_count": 6,
   "metadata": {},
   "outputs": [],
   "source": [
    "class daynames:\n",
    "    def __init__(self, dataval=None):\n",
    "        self.dataval = dataval\n",
    "        self.nextval = None\n",
    "        \n",
    "e1 = daynames(\"Mon\")\n",
    "e2 = daynames(\"Tue\")\n",
    "e3 = daynames(\"Wed\")\n",
    "e4 = daynames(\"Thu\")\n",
    "e5 = daynames(\"Fri\")\n",
    "e6 = daynames(\"Sat\")\n",
    "e7 = daynames(\"Sun\")\n",
    "\n",
    "e1.nextval = e2\n",
    "e2.nextval = e3\n",
    "e3.nextval = e4\n",
    "e4.nextval = e5\n",
    "e5.nextval = e6\n",
    "e6.nextval = e7\n",
    "# e7.nextval = e1"
   ]
  },
  {
   "cell_type": "code",
   "execution_count": 7,
   "metadata": {},
   "outputs": [
    {
     "name": "stdout",
     "output_type": "stream",
     "text": [
      "Mon\n",
      "Tue\n",
      "Wed\n",
      "Thu\n",
      "Fri\n",
      "Sat\n",
      "Sun\n"
     ]
    }
   ],
   "source": [
    "thisvalue = e1\n",
    "while thisvalue:\n",
    "    print(thisvalue.dataval)\n",
    "    thisvalue = thisvalue.nextval"
   ]
  }
 ],
 "metadata": {
  "kernelspec": {
   "display_name": "Python 3",
   "language": "python",
   "name": "python3"
  },
  "language_info": {
   "codemirror_mode": {
    "name": "ipython",
    "version": 3
   },
   "file_extension": ".py",
   "mimetype": "text/x-python",
   "name": "python",
   "nbconvert_exporter": "python",
   "pygments_lexer": "ipython3",
   "version": "3.11.4"
  }
 },
 "nbformat": 4,
 "nbformat_minor": 2
}
